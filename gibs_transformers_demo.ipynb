{
 "metadata": {
  "name": "",
  "signature": "sha256:218a2c8c751a50cb5d664501d471209cb853fba1ca90facb2b487a1ad57fba98"
 },
 "nbformat": 3,
 "nbformat_minor": 0,
 "worksheets": [
  {
   "cells": [
    {
     "cell_type": "markdown",
     "metadata": {},
     "source": [
      "# transformers demo\n",
      "\n",
      "Mock reprojection/resampling for the 5 GIBS targeted datasets: NSIDC 0051, NSIDC 0484, NSIDC 0478, NISE1, and NSIDC 0081.\n",
      "\n",
      "## Imports\n",
      "\n",
      "All we need really is the SpatialReference class to define the coordinate system, and the warp function which performs raster reprojection and resampling. "
     ]
    },
    {
     "cell_type": "code",
     "collapsed": false,
     "input": [
      "from transformers.srs import SpatialReference\n",
      "from transformers.raster import warp\n",
      "# io functions for convenience, not intended for general use atm\n",
      "from transformers.io import read_gtiff, write_gtiff  "
     ],
     "language": "python",
     "metadata": {},
     "outputs": [],
     "prompt_number": 3
    },
    {
     "cell_type": "markdown",
     "metadata": {},
     "source": [
      "First a dataset is created with a grid pattern. In EPSG:3413 at 25000 km resolution this covers the arctic extent. For other projections will reuse data for simplicity, but won't have same meaning."
     ]
    },
    {
     "cell_type": "code",
     "collapsed": false,
     "input": [
      "import numpy\n",
      "data = numpy.zeros((448, 304), dtype=numpy.uint8)\n",
      "data[::16, :] = 255\n",
      "data[:, ::16] = 255\n",
      "data[1::16, :] = 255\n",
      "data[:, 1::16] = 255\n",
      "data[:16, :16] = 255"
     ],
     "language": "python",
     "metadata": {},
     "outputs": [],
     "prompt_number": 4
    },
    {
     "cell_type": "markdown",
     "metadata": {},
     "source": [
      "## NSIDC 0051 north\n",
      "\n",
      "* Source - EPSG:3411, 25km\n",
      "* Dest - EPSG:3413, 2km"
     ]
    },
    {
     "cell_type": "code",
     "collapsed": false,
     "input": [
      "src_fn = 'test_grid_nsidc0051_n_native.tif'\n",
      "top_left = (-3850000, 5850000)\n",
      "pxl_size = 25000\n",
      "srs = SpatialReference.from_epsg(3411)\n",
      "\n",
      "write_gtiff(src_fn, data, top_left, pxl_size, srs)\n",
      "\n",
      "out_fn = 'test_grid_nsidc0051_n_gibs.tif'\n",
      "dest_pxl_size = 2000\n",
      "dest_srs = SpatialReference.from_epsg(3413)\n",
      "\n",
      "dest_data, dest_top_left = warp(\n",
      "    data=data,\n",
      "    top_left=top_left,\n",
      "    srs=srs, \n",
      "    pixel_size=pxl_size,\n",
      "    dest_srs=dest_srs, \n",
      "    dest_pixel_size=dest_pxl_size)\n",
      "\n",
      "write_gtiff(out_fn, dest_data, dest_top_left, dest_pxl_size, dest_srs)"
     ],
     "language": "python",
     "metadata": {},
     "outputs": [],
     "prompt_number": 5
    },
    {
     "cell_type": "markdown",
     "metadata": {},
     "source": [
      "## NSIDC 0051 south\n",
      "\n",
      "* Source - EPSG:3412, 25km\n",
      "* Dest - EPSG:3031, 2km"
     ]
    },
    {
     "cell_type": "code",
     "collapsed": false,
     "input": [
      "src_fn = 'test_grid_nsidc0051_s_native.tif'\n",
      "top_left = (-3950000, 4350000)\n",
      "pxl_size = 25000\n",
      "srs = SpatialReference.from_epsg(3412)\n",
      "\n",
      "write_gtiff(src_fn, data, top_left, pxl_size, srs)\n",
      "\n",
      "out_fn = 'test_grid_nsidc0051_s_gibs.tif'\n",
      "dest_pxl_size = 2000\n",
      "dest_srs = SpatialReference.from_epsg(3031)\n",
      "\n",
      "dest_data, dest_top_left = warp(\n",
      "    data=data,\n",
      "    top_left=top_left,\n",
      "    srs=srs, \n",
      "    pixel_size=pxl_size,\n",
      "    dest_srs=dest_srs, \n",
      "    dest_pixel_size=dest_pxl_size)\n",
      "\n",
      "write_gtiff(out_fn, dest_data, dest_top_left, dest_pxl_size, dest_srs)"
     ],
     "language": "python",
     "metadata": {},
     "outputs": [],
     "prompt_number": 6
    },
    {
     "cell_type": "markdown",
     "metadata": {},
     "source": [
      "## NSIDC 0484\n",
      "\n",
      "* Source - EPSG:3031, 450m\n",
      "* Dest - EPSG:3031, 2km"
     ]
    },
    {
     "cell_type": "code",
     "collapsed": false,
     "input": [
      "src_fn = 'test_grid_nsidc0484_native.tif'\n",
      "top_left = (-2800000, 2800000)\n",
      "pxl_size = 450\n",
      "srs = SpatialReference.from_epsg(3031)\n",
      "\n",
      "write_gtiff(src_fn, data, top_left, pxl_size, srs)\n",
      "\n",
      "out_fn = 'test_grid_nsidc00484_gibs.tif'\n",
      "dest_pxl_size = 2000\n",
      "dest_srs = srs\n",
      "\n",
      "dest_data, dest_top_left = warp(\n",
      "    data=data,\n",
      "    top_left=top_left,\n",
      "    srs=srs, \n",
      "    pixel_size=pxl_size,\n",
      "    dest_srs=dest_srs, \n",
      "    dest_pixel_size=dest_pxl_size)\n",
      "\n",
      "write_gtiff(out_fn, dest_data, dest_top_left, dest_pxl_size, dest_srs)"
     ],
     "language": "python",
     "metadata": {},
     "outputs": [],
     "prompt_number": 7
    },
    {
     "cell_type": "markdown",
     "metadata": {},
     "source": [
      "## NSIDC 0478\n",
      "\n",
      "* Source - EPSG:3411, 500m\n",
      "* Dest - EPSG:3413, 2km"
     ]
    },
    {
     "cell_type": "code",
     "collapsed": false,
     "input": [
      "src_fn = 'test_grid_nsidc0478_native.tif'\n",
      "top_left = (-3850000, 5850000)\n",
      "pxl_size = 500\n",
      "srs = SpatialReference.from_epsg(3411)\n",
      "\n",
      "write_gtiff(src_fn, data, top_left, pxl_size, srs)\n",
      "\n",
      "out_fn = 'test_grid_nsidc00478_gibs.tif'\n",
      "dest_pxl_size = 2000\n",
      "dest_srs = SpatialReference.from_epsg(3413)\n",
      "\n",
      "dest_data, dest_top_left = warp(\n",
      "    data=data,\n",
      "    top_left=top_left,\n",
      "    srs=srs, \n",
      "    pixel_size=pxl_size,\n",
      "    dest_srs=dest_srs, \n",
      "    dest_pixel_size=dest_pxl_size)\n",
      "\n",
      "write_gtiff(out_fn, dest_data, dest_top_left, dest_pxl_size, dest_srs)"
     ],
     "language": "python",
     "metadata": {},
     "outputs": [],
     "prompt_number": 8
    },
    {
     "cell_type": "markdown",
     "metadata": {},
     "source": [
      "## NISE1 north\n",
      "\n",
      "* Source - EPSG:3408 (EASE 1.0), 25.067525km\n",
      "* Dest - EPSG:3413, 2km"
     ]
    },
    {
     "cell_type": "code",
     "collapsed": false,
     "input": [
      "src_fn = 'test_grid_nise1_n_native.tif'\n",
      "top_left = (-9024309, 9024309)\n",
      "pxl_size = 25.067525\n",
      "srs = SpatialReference.from_epsg(3408)\n",
      "\n",
      "write_gtiff(src_fn, data, top_left, pxl_size, srs)\n",
      "\n",
      "out_fn = 'test_grid_nise1_n_gibs.tif'\n",
      "dest_pxl_size = 2000\n",
      "dest_srs = SpatialReference.from_epsg(3413)\n",
      "\n",
      "dest_data, dest_top_left = warp(\n",
      "    data=data,\n",
      "    top_left=top_left,\n",
      "    srs=srs, \n",
      "    pixel_size=pxl_size,\n",
      "    dest_srs=dest_srs, \n",
      "    dest_pixel_size=dest_pxl_size)\n",
      "\n",
      "write_gtiff(out_fn, dest_data, dest_top_left, dest_pxl_size, dest_srs)"
     ],
     "language": "python",
     "metadata": {},
     "outputs": [],
     "prompt_number": 9
    },
    {
     "cell_type": "markdown",
     "metadata": {},
     "source": [
      "## NISE1 south\n",
      "\n",
      "* Source - EPSG:3409 (EASE 1.0), 25.067525km\n",
      "* Dest - EPSG:3413, 2km"
     ]
    },
    {
     "cell_type": "code",
     "collapsed": false,
     "input": [
      "src_fn = 'test_grid_nise1_s_native.tif'\n",
      "top_left = (-3850000, 5850000)\n",
      "pxl_size = 25.067525\n",
      "srs = SpatialReference.from_epsg(3409)\n",
      "\n",
      "write_gtiff(src_fn, data, top_left, pxl_size, srs)\n",
      "\n",
      "out_fn = 'test_grid_nise1_s_gibs.tif'\n",
      "dest_pxl_size = 2000\n",
      "dest_srs = SpatialReference.from_epsg(3413)\n",
      "\n",
      "dest_data, dest_top_left = warp(\n",
      "    data=data,\n",
      "    top_left=top_left,\n",
      "    srs=srs, \n",
      "    pixel_size=pxl_size,\n",
      "    dest_srs=dest_srs, \n",
      "    dest_pixel_size=dest_pxl_size)\n",
      "\n",
      "write_gtiff(out_fn, dest_data, dest_top_left, dest_pxl_size, dest_srs)"
     ],
     "language": "python",
     "metadata": {},
     "outputs": [],
     "prompt_number": 10
    },
    {
     "cell_type": "markdown",
     "metadata": {},
     "source": [
      "## NSIDC 0081 north\n",
      "\n",
      "* Source - EPSG:3411, 25km\n",
      "* Dest - EPSG:3413, 2km"
     ]
    },
    {
     "cell_type": "code",
     "collapsed": false,
     "input": [
      "src_fn = 'test_grid_nsidc0081_n_native.tif'\n",
      "top_left = (-3850000, 5850000)\n",
      "pxl_size = 25000\n",
      "srs = SpatialReference.from_epsg(3411)\n",
      "\n",
      "write_gtiff(src_fn, data, top_left, pxl_size, srs)\n",
      "\n",
      "out_fn = 'test_grid_nsidc0081_n_gibs.tif'\n",
      "dest_pxl_size = 2000\n",
      "dest_srs = SpatialReference.from_epsg(3413)\n",
      "\n",
      "dest_data, dest_top_left = warp(\n",
      "    data=data,\n",
      "    top_left=top_left,\n",
      "    srs=srs, \n",
      "    pixel_size=pxl_size,\n",
      "    dest_srs=dest_srs, \n",
      "    dest_pixel_size=dest_pxl_size)\n",
      "\n",
      "write_gtiff(out_fn, dest_data, dest_top_left, dest_pxl_size, dest_srs)"
     ],
     "language": "python",
     "metadata": {},
     "outputs": [],
     "prompt_number": 11
    },
    {
     "cell_type": "markdown",
     "metadata": {},
     "source": [
      "## NSIDC 0081 south\n",
      "\n",
      "* Source - EPSG:3412, 25km\n",
      "* Dest - EPSG:3031, 2km"
     ]
    },
    {
     "cell_type": "code",
     "collapsed": false,
     "input": [
      "src_fn = 'test_grid_nsidc0081_s_native.tif'\n",
      "top_left = (-3850000, 5850000)\n",
      "pxl_size = 25000\n",
      "srs = SpatialReference.from_epsg(3412)\n",
      "\n",
      "write_gtiff(src_fn, data, top_left, pxl_size, srs)\n",
      "\n",
      "out_fn = 'test_grid_nsidc0081_s_gibs.tif'\n",
      "dest_pxl_size = 2000\n",
      "dest_srs = SpatialReference.from_epsg(3031)\n",
      "\n",
      "dest_data, dest_top_left = warp(\n",
      "    data=data,\n",
      "    top_left=top_left,\n",
      "    srs=srs, \n",
      "    pixel_size=pxl_size,\n",
      "    dest_srs=dest_srs, \n",
      "    dest_pixel_size=dest_pxl_size)\n",
      "\n",
      "write_gtiff(out_fn, dest_data, dest_top_left, dest_pxl_size, dest_srs)"
     ],
     "language": "python",
     "metadata": {},
     "outputs": [],
     "prompt_number": 12
    },
    {
     "cell_type": "markdown",
     "metadata": {},
     "source": [
      "## NSIDC 0081 south from proj4 string\n",
      "\n",
      "Using proj4 string instead, just for funzies.\n",
      "\n",
      "* Source - EPSG:3412, 25km\n",
      "* Dest - EPSG:3031, 2km"
     ]
    },
    {
     "cell_type": "code",
     "collapsed": false,
     "input": [
      "src_fn = 'test_grid_nsidc0081_n_native.tif'\n",
      "top_left = (-3850000, 5850000)\n",
      "pxl_size = 25000\n",
      "srs = SpatialReference.from_proj4('+proj=stere '\n",
      "                                  '+lat_0=-90 '\n",
      "                                  '+lon_0=0 '\n",
      "                                  '+lat_ts=-70 '\n",
      "                                  '+k=1 '\n",
      "                                  '+x_0=0 '\n",
      "                                  '+y_0=0 '\n",
      "                                  '+a=6378273 '\n",
      "                                  '+b=6356889.449 '\n",
      "                                  '+units=m '\n",
      "                                  '+no_defs ')\n",
      "\n",
      "write_gtiff(src_fn, data, top_left, pxl_size, srs)\n",
      "\n",
      "out_fn = 'test_grid_nsidc0081_n_gibs.tif'\n",
      "dest_pxl_size = 2000\n",
      "dest_srs = SpatialReference.from_proj4('+proj=stere '\n",
      "                                       '+lat_0=-90 '\n",
      "                                       '+lon_0=0 '\n",
      "                                       '+lat_ts=-71 '\n",
      "                                       '+k=1 '\n",
      "                                       '+x_0=0 '\n",
      "                                       '+y_0=0 '\n",
      "                                       '+ellps=WGS84 '\n",
      "                                       '+datum=WGS84 '\n",
      "                                       '+units=m '\n",
      "                                       '+no_defs ')\n",
      "\n",
      "dest_data, dest_top_left = warp(\n",
      "    data=data,\n",
      "    top_left=top_left,\n",
      "    srs=srs, \n",
      "    pixel_size=pxl_size,\n",
      "    dest_srs=dest_srs, \n",
      "    dest_pixel_size=dest_pxl_size)\n",
      "\n",
      "write_gtiff(out_fn, dest_data, dest_top_left, dest_pxl_size, dest_srs)"
     ],
     "language": "python",
     "metadata": {},
     "outputs": [],
     "prompt_number": 13
    }
   ],
   "metadata": {}
  }
 ]
}